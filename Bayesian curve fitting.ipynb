{
 "cells": [
  {
   "cell_type": "code",
   "execution_count": 11,
   "metadata": {
    "collapsed": true
   },
   "outputs": [],
   "source": [
    "%matplotlib inline\n",
    "import pandas as pd\n",
    "import numpy as np\n",
    "import matplotlib.pyplot as plt"
   ]
  },
  {
   "cell_type": "code",
   "execution_count": 42,
   "metadata": {
    "collapsed": true
   },
   "outputs": [],
   "source": [
    "points = [(0,0),(0,0.25),(0.1,0.8),(0.2,0.9),(0.3,0.93),(0.45,0.00),(0.55,0.1),(0.7,-0.75),(0.8,-0.3),(0.9,-0.5),(1,0.2)]"
   ]
  },
  {
   "cell_type": "code",
   "execution_count": 43,
   "metadata": {
    "collapsed": true
   },
   "outputs": [],
   "source": [
    "xs = [x[0] for x in points]\n",
    "ys = [y[1] for y in points]"
   ]
  },
  {
   "cell_type": "markdown",
   "metadata": {},
   "source": [
    "# Our data. We will perform Bayesian curve fitting on it."
   ]
  },
  {
   "cell_type": "code",
   "execution_count": 83,
   "metadata": {
    "scrolled": true
   },
   "outputs": [
    {
     "data": {
      "image/png": "[encoded data removed]",
      "text/plain": [
       "<matplotlib.figure.Figure at 0x7f2ba4e92828>"
      ]
     },
     "metadata": {},
     "output_type": "display_data"
    }
   ],
   "source": [
    "f = plt.figure(figsize=(10,8))\n",
    "ax = f.add_subplot(111)\n",
    "ax.scatter(xs,ys)\n",
    "\n",
    "ax.set_xlabel('x')\n",
    "ax.set_ylabel('y')\n",
    "\n",
    "plt.show()"
   ]
  },
  {
   "cell_type": "markdown",
   "metadata": {},
   "source": [
    "This is a demonstration on how to obtain the quantity $p(t|x,\\mathbf{x},\\mathbf{t})$, which will give us uncertainty about the new target $t$, **given**: the input that generated it $x$ and all the inputs along with corresponding targets: $\\mathbf{x},\\mathbf{t}$ respecitvely.\n",
    "\n",
    "The equation is this:\n",
    "\n",
    "$$p(t|x,\\mathbf{x},\\mathbf{t}) = \\int  p(t|x,\\mathbf{w}) p(\\mathbf{w}|\\mathbf{x},\\mathbf{t}) d\\mathbf{w}$$\n",
    "\n",
    "for the derivation of the above go to my blog post on: smallmargin.uk\n",
    "\n",
    "This equation has an analytic solution:\n",
    "$$p(t|x,\\mathbf{x},\\mathbf{t}) = \\mathcal{N}(t|m(x),s^2(x))$$\n",
    "\n",
    "where:\n",
    "$$m(x) = \\beta \\phi(x)^T \\mathbf{S} \\sum_{n=1}^N \\phi(x_n) t_n$$\n",
    "$$s^2(x) = \\beta^{-1} + \\phi(x)^T \\mathbf{S} \\phi(x)$$\n",
    "matrix $\\mathbf{S}$ is given by:\n",
    "$$\\mathbf{S}^{-1} = \\alpha \\mathbf{I} + \\beta \\sum_{n=1}^N \\phi(x_n) \\phi(x_n)^T$$\n",
    "and $\\phi(x)$ is defined such as: $\\phi_i (x) = x^i$ for $i=0,...,M$\n",
    "\n",
    "Method implemented below, correspond to these quantities/constructs."
   ]
  },
  {
   "cell_type": "markdown",
   "metadata": {},
   "source": [
    "Also note that $m(x) \\in \\mathbb{R}$, $s^2(x) \\in \\mathbb{R}$ and $\\mathbf{S} \\in \\mathbb{R}^{(M+1)\\times (M+1)}$"
   ]
  },
  {
   "cell_type": "code",
   "execution_count": 69,
   "metadata": {
    "collapsed": true
   },
   "outputs": [],
   "source": [
    "def variance(alpha, beta, new_x, x_vec, D):\n",
    "    assert isinstance(alpha, float), \"Alpha has to be a float.\"\n",
    "    assert isinstance(beta, float),  \"Beta has to be a float.\"\n",
    "    assert isinstance(new_x, float), \"New_x has to be a float.\"\n",
    "    assert x_vec.shape[1] == 1,      \"x_vec has to be a column vector.\"\n",
    "    assert isinstance(D, int),       \"Dimensions has to be an integer.\"\n",
    "\n",
    "    S = matrix_S(alpha,beta,x_vec, D)\n",
    "    return (1/beta)+(phi(new_x, D).T.dot(S).dot(phi(new_x, D)))[0][0]\n",
    "\n",
    "def phi(x, D):\n",
    "    \"\"\"\n",
    "    x - is the real valued constant.\n",
    "    D - is an integer dimension.\n",
    "    \"\"\"\n",
    "    assert isinstance(x, float), \"x should be a float.\"\n",
    "    assert isinstance(D, int), \"Dimension D, should be an integer.\"\n",
    "\n",
    "    dimension = D + 1  # We are including a constant here.\n",
    "    returnVector = [0] * dimension\n",
    "    for i in range(dimension): returnVector[i] += x ** i\n",
    "\n",
    "    returnVector = np.array(returnVector)\n",
    "    returnVector = returnVector.reshape(returnVector.shape + (1,))\n",
    "\n",
    "    return returnVector\n",
    "\n",
    "def mean(alpha, beta, new_x, target_vec, x_vec, D):\n",
    "    assert isinstance(alpha, float), \"Alpha should be a float.\"\n",
    "    assert isinstance(beta, float),  \"Beta should be a float.\"\n",
    "    assert isinstance(new_x, float), \"new_x should be a float: {}.\".format(new_x)\n",
    "    assert target_vec.shape[1] == 1, \"target_vec should be a column vector, shape: {}.\".format(target_vec.shape)\n",
    "    assert x_vec.shape[1] == 1,      \"x_vec should be a column vector.\"\n",
    "    assert isinstance(D, int),       \"Dimension should be an integer.\"\n",
    "    assert len(target_vec)==len(x_vec), \"x_vec and target_vec must be of the same dimensionality.\"\n",
    "    \n",
    "    sum_vec_x = 0\n",
    "    for i in range(len(x_vec)): sum_vec_x += phi(x_vec[i][0], D) * target_vec[i][0]\n",
    "\n",
    "    S = matrix_S(alpha, beta, x_vec, D)\n",
    "\n",
    "    return beta * ((phi(new_x, D).T.dot(S)).dot(sum_vec_x))[0][0]\n",
    "\n",
    "def matrix_S(alpha, beta, x_vec, D):\n",
    "\n",
    "    assert isinstance(alpha, float), \"Alpha is not a float.\"\n",
    "    assert isinstance(beta, float),  \"Beta is not a float.\"\n",
    "    assert isinstance(D, int),       \"Dimension is not an int.\"\n",
    "    assert x_vec.shape[1] == 1, \"x_vec must be a column vector.\"\n",
    "\n",
    "    first_expr  = alpha*np.eye(D+1)\n",
    "    second_expr = 0\n",
    "    for i in range(len(x_vec)): second_expr += phi(x_vec[i][0], D).dot(phi(x_vec[i][0],D).T)\n",
    "    return np.linalg.inv(first_expr+beta*second_expr)"
   ]
  },
  {
   "cell_type": "markdown",
   "metadata": {},
   "source": [
    "To multiply column vecotr by row vector:\n",
    "$$\\phi(x_n) \\phi(x)^T$$\n",
    "we can write: np.outer(phi(2,2),phi(2,2)), which will return a $3 \\times 3$ matrix (because we take into account the cosntant in $\\mathbf{w}$ as well."
   ]
  },
  {
   "cell_type": "code",
   "execution_count": 224,
   "metadata": {
    "collapsed": true
   },
   "outputs": [],
   "source": [
    "a = phi(2,2)"
   ]
  },
  {
   "cell_type": "code",
   "execution_count": 228,
   "metadata": {},
   "outputs": [
    {
     "data": {
      "text/plain": [
       "array([[ 1,  2,  4],\n",
       "       [ 2,  4,  8],\n",
       "       [ 4,  8, 16]])"
      ]
     },
     "execution_count": 228,
     "metadata": {},
     "output_type": "execute_result"
    }
   ],
   "source": [
    "a.dot(a.T)"
   ]
  },
  {
   "cell_type": "markdown",
   "metadata": {},
   "source": [
    "Identity matrix can be created with np.eye(n)"
   ]
  },
  {
   "cell_type": "code",
   "execution_count": 82,
   "metadata": {},
   "outputs": [
    {
     "data": {
      "text/plain": [
       "array([[ 2.,  0.,  0.],\n",
       "       [ 0.,  2.,  0.],\n",
       "       [ 0.,  0.,  2.]])"
      ]
     },
     "execution_count": 82,
     "metadata": {},
     "output_type": "execute_result"
    }
   ],
   "source": [
    "2*np.eye(3)"
   ]
  },
  {
   "cell_type": "markdown",
   "metadata": {},
   "source": [
    "To multiply row vector, $a = [1,2,3]$ by matrix $I = [[1,0,0],[0,1,0],[0,0,1]]$:"
   ]
  },
  {
   "cell_type": "code",
   "execution_count": 92,
   "metadata": {},
   "outputs": [
    {
     "data": {
      "text/plain": [
       "array([ 1.,  2.,  3.])"
      ]
     },
     "execution_count": 92,
     "metadata": {},
     "output_type": "execute_result"
    }
   ],
   "source": [
    "a = np.array([1,2,3])\n",
    "I = np.eye(len(a))\n",
    "\n",
    "np.dot(a,I)"
   ]
  },
  {
   "cell_type": "markdown",
   "metadata": {},
   "source": [
    "# Actual procedural updating of the distribution of new target $t$"
   ]
  },
  {
   "cell_type": "markdown",
   "metadata": {},
   "source": [
    "With start with just one given point: (0,0), which constitutes our vector x: $\\mathbf{x}$. The new point then arrives, which is $(0,0.25)$. And we compute the $p(t|x,\\mathbf{x},\\mathbf{t})$ for this new point."
   ]
  },
  {
   "cell_type": "code",
   "execution_count": 132,
   "metadata": {
    "collapsed": true
   },
   "outputs": [],
   "source": [
    "alpha = 5*10**(-3)\n",
    "beta = 11.1\n",
    "M = 9"
   ]
  },
  {
   "cell_type": "code",
   "execution_count": 133,
   "metadata": {},
   "outputs": [],
   "source": [
    "x_vec = np.linspace(-5,0,200)\n",
    "x_vec = x_vec.reshape(x_vec.shape + (1,))\n",
    "t_vec = np.array([np.sin(x+np.random.normal(0,np.sqrt(1/beta))) for x in x_vec])\n",
    "t_vec = t_vec.reshape(t_vec.shape + (1,))"
   ]
  },
  {
   "cell_type": "code",
   "execution_count": 134,
   "metadata": {},
   "outputs": [
    {
     "data": {
      "image/png": "[encoded data removed]",
      "text/plain": [
       "<matplotlib.figure.Figure at 0x7fb1a8f57650>"
      ]
     },
     "metadata": {},
     "output_type": "display_data"
    }
   ],
   "source": [
    "plt.scatter(x_vec,t_vec)\n",
    "plt.show()"
   ]
  },
  {
   "cell_type": "code",
   "execution_count": 135,
   "metadata": {
    "collapsed": true
   },
   "outputs": [],
   "source": [
    "x_predict = np.array(np.linspace(0.,5.,200))\n",
    "x_predict = x_predict.reshape(x_predict.shape + (1,))\n",
    "y_predict = np.array([np.sin(x+np.random.normal(0,np.sqrt(1/beta))) for x in x_predict])\n",
    "y_predict = y_predict.reshape(y_predict.shape + (1,))"
   ]
  },
  {
   "cell_type": "code",
   "execution_count": 136,
   "metadata": {},
   "outputs": [
    {
     "data": {
      "image/png": "[encoded data removed]",
      "text/plain": [
       "<matplotlib.figure.Figure at 0x7fb1a9240750>"
      ]
     },
     "metadata": {},
     "output_type": "display_data"
    }
   ],
   "source": [
    "plt.scatter(x_predict,y_predict)\n",
    "plt.show()"
   ]
  },
  {
   "cell_type": "code",
   "execution_count": 138,
   "metadata": {},
   "outputs": [
    {
     "data": {
      "image/png": "[encoded data removed]",
      "text/plain": [
       "<matplotlib.figure.Figure at 0x7fb1a8fa0950>"
      ]
     },
     "metadata": {},
     "output_type": "display_data"
    }
   ],
   "source": [
    "means     = [0.] * (len(x_predict) - 1)  # Important, have 0., otherwise will be an array of integers.\n",
    "variances = [0.] * (len(x_predict) - 1)\n",
    "\n",
    "for i in range(len(x_predict) - 1):\n",
    "#     x_vec = np.append(x_vec,x_predict[i]) # x_vec\n",
    "#     x_vec = x_vec.reshape(x_vec.shape + (1,))\n",
    "#     t_vec = np.append(t_vec,y_predict[i]) # target_vec\n",
    "#     t_vec = t_vec.reshape(t_vec.shape + (1,))\n",
    "    new_datapoint = x_predict[i + 1]\n",
    "    new_x = new_datapoint[0]\n",
    "    p_t_mean = mean(  alpha,  beta, new_x, t_vec, x_vec, M)\n",
    "    p_t_var = variance(alpha, beta, new_x, x_vec, M)\n",
    "    means[i] = p_t_mean\n",
    "    variances[i] = (0.01*p_t_var + means[i], means[i] - 0.01*p_t_var)\n",
    "\n",
    "f = plt.figure(figsize=(10,5))\n",
    "ax = f.add_subplot(111)\n",
    "\n",
    "ax.scatter(x_predict,y_predict)\n",
    "ax.plot(x_predict[1:],means,c='green')\n",
    "miny = [y[1] for y in variances]\n",
    "maxy = [y[0] for y in variances]\n",
    "ax.fill_between(x_predict[1:].T[0],miny,maxy,alpha=0.2,color='red')\n",
    "\n",
    "ax.set_xlabel('x')\n",
    "ax.set_ylabel('t')\n",
    "plt.show()"
   ]
  },
  {
   "cell_type": "code",
   "execution_count": 139,
   "metadata": {},
   "outputs": [
    {
     "data": {
      "text/plain": [
       "[-0.086903661263568202,\n",
       " -0.070416671637622122,\n",
       " -0.05453972793079629,\n",
       " -0.039381524958662338,\n",
       " -0.025063413533098353,\n",
       " -0.011720509435963321,\n",
       " 0.0004971286102772865,\n",
       " 0.011423257234673656,\n",
       " 0.020874133008510397,\n",
       " 0.028647128175362014,\n",
       " 0.034519260459273934,\n",
       " 0.038245669034222371,\n",
       " 0.0395579691772582,\n",
       " 0.038162573223235081,\n",
       " 0.033738874323171332,\n",
       " 0.025937395393702899,\n",
       " 0.01437777561150142,\n",
       " -0.0013532653829315677,\n",
       " -0.021704107847472186,\n",
       " -0.047160509458626619,\n",
       " -0.078247959395230285,\n",
       " -0.11553418304538354,\n",
       " -0.15963174241769593,\n",
       " -0.21120071731565984,\n",
       " -0.27095154448470565,\n",
       " -0.33964799793320705,\n",
       " -0.41811025405477265,\n",
       " -0.507218015223043,\n",
       " -0.60791405820054933,\n",
       " -0.72120747790904716,\n",
       " -0.84817737119738013,\n",
       " -0.9899768016650341,\n",
       " -1.1478363997593988,\n",
       " -1.3230686690658331,\n",
       " -1.5170719844056293,\n",
       " -1.7313353213248774,\n",
       " -1.9674423943972215,\n",
       " -2.2270767892361616,\n",
       " -2.5120265575940719,\n",
       " -2.8241892014164476,\n",
       " -3.1655775420600549,\n",
       " -3.5383244743337854,\n",
       " -3.9446887840284033,\n",
       " -4.3870614138431847,\n",
       " -4.8679708699928597,\n",
       " -5.3900900967651975,\n",
       " -5.9562423509079965,\n",
       " -6.5694084922783071,\n",
       " -7.2327332717366515,\n",
       " -7.9495329190045592,\n",
       " -8.7233022420667101,\n",
       " -9.557722685392946,\n",
       " -10.456669323379174,\n",
       " -11.424220226285978,\n",
       " -12.464663288276641,\n",
       " -13.582506544422358,\n",
       " -14.782485184818507,\n",
       " -16.069573122449217,\n",
       " -17.448989759199321,\n",
       " -18.926211315952241,\n",
       " -20.506981728505341,\n",
       " -22.197319790907205,\n",
       " -24.003533276729286,\n",
       " -25.932228687498718,\n",
       " -27.990320742689072,\n",
       " -30.185046563018112,\n",
       " -32.523976907506587,\n",
       " -35.015027431212367,\n",
       " -37.666472258605062,\n",
       " -40.486955675482747,\n",
       " -43.485506984218951,\n",
       " -46.671554376929997,\n",
       " -50.054937092587352,\n",
       " -53.645921605825421,\n",
       " -57.455215086601676,\n",
       " -61.493982498720285,\n",
       " -65.77386059705168,\n",
       " -70.306973537430167,\n",
       " -75.105952662974587,\n",
       " -80.18394818566739,\n",
       " -85.554650998860595,\n",
       " -91.232308576628569,\n",
       " -97.231743788346648,\n",
       " -103.56837305165827,\n",
       " -110.25822481624782,\n",
       " -117.31796019785106,\n",
       " -124.76489572115243,\n",
       " -132.61701700687408,\n",
       " -140.89300689026712,\n",
       " -149.61226535215974,\n",
       " -158.79492382630704,\n",
       " -168.46188419312239,\n",
       " -178.63482531309128,\n",
       " -189.33623842298985,\n",
       " -200.58944309726357,\n",
       " -212.41861925348638,\n",
       " -224.84882633909584,\n",
       " -237.90603649467229,\n",
       " -251.61715688332916,\n",
       " -266.01004705801603,\n",
       " -281.11357767954468,\n",
       " -296.95761579573156,\n",
       " -313.57309670895336,\n",
       " -330.99201984107492,\n",
       " -349.24750083535906,\n",
       " -368.3737866908312,\n",
       " -388.40630488693711,\n",
       " -409.38168075084684,\n",
       " -431.33779137879611,\n",
       " -454.31375306546687,\n",
       " -478.35002749264237,\n",
       " -503.48839476853607,\n",
       " -529.7720129728317,\n",
       " -557.24545371830459,\n",
       " -585.95475722998378,\n",
       " -615.94742672145367,\n",
       " -647.27253375649445,\n",
       " -679.98066796660419,\n",
       " -714.12408144772053,\n",
       " -749.7566429436207,\n",
       " -786.93394370377064,\n",
       " -825.71328557431696,\n",
       " -866.1537696540355,\n",
       " -908.31633400619023,\n",
       " -952.26377052962778,\n",
       " -998.06080435216427,\n",
       " -1045.7741202950476,\n",
       " -1095.4724237412213,\n",
       " -1147.2264909178018,\n",
       " -1201.1092469662428,\n",
       " -1257.1957355082034,\n",
       " -1315.5632149100304,\n",
       " -1376.2912919282912,\n",
       " -1439.4618555486202,\n",
       " -1505.1591686189174,\n",
       " -1573.469973707199,\n",
       " -1644.4835069954395,\n",
       " -1718.2915412843226,\n",
       " -1794.9884944975377,\n",
       " -1874.6714654088021,\n",
       " -1957.4402799546717,\n",
       " -2043.3975732743741,\n",
       " -2132.6488664567469,\n",
       " -2225.302644610405,\n",
       " -2321.470340323448,\n",
       " -2421.2664917886254,\n",
       " -2524.8087593436239,\n",
       " -2632.2180174350738,\n",
       " -2743.6185213446615,\n",
       " -2859.1376868724824,\n",
       " -2978.9065541267396,\n",
       " -3103.0595599293706,\n",
       " -3231.734762763977,\n",
       " -3365.0738917350768,\n",
       " -3503.2223809719085,\n",
       " -3646.3294887185098,\n",
       " -3794.5484534740449,\n",
       " -3948.0364159226415,\n",
       " -4106.9546531438828,\n",
       " -4271.4685667037966,\n",
       " -4441.7477567553515,\n",
       " -4617.9663806319231,\n",
       " -4800.302695012092,\n",
       " -4988.9396950364107,\n",
       " -5184.0649846315382,\n",
       " -5385.8708479642864,\n",
       " -5594.5542348861691,\n",
       " -5810.3173391819,\n",
       " -6033.3669885635372,\n",
       " -6263.9154147863383,\n",
       " -6502.1798090457914,\n",
       " -6748.3828697919844,\n",
       " -7002.7527445077894,\n",
       " -7265.5229026794432,\n",
       " -7536.9326518535609,\n",
       " -7817.2268915176392,\n",
       " -8106.6566344499588,\n",
       " -8405.4785515308376,\n",
       " -8713.9557524442662,\n",
       " -9032.3572590351105,\n",
       " -9360.9585848808292,\n",
       " -9700.0418729066841,\n",
       " -10049.895469307899,\n",
       " -10410.814860391616,\n",
       " -10783.101894521713,\n",
       " -11167.065896272659,\n",
       " -11563.023025989532,\n",
       " -11971.296647644043,\n",
       " -12392.217561721802,\n",
       " -12826.124169301986,\n",
       " -13273.362350320816,\n",
       " -13734.286040496825,\n",
       " -14209.2568608284,\n",
       " -14698.644588661193,\n",
       " -15202.827438211441,\n",
       " -15722.191637134552,\n",
       " -16257.132368659974,\n",
       " -16808.053120565415,\n",
       " -17375.366542625427]"
      ]
     },
     "execution_count": 139,
     "metadata": {},
     "output_type": "execute_result"
    }
   ],
   "source": [
    "means"
   ]
  },
  {
   "cell_type": "code",
   "execution_count": null,
   "metadata": {
    "collapsed": true
   },
   "outputs": [],
   "source": []
  }
 ],
 "metadata": {
  "kernelspec": {
   "display_name": "Python 2",
   "language": "python",
   "name": "python2"
  },
  "language_info": {
   "codemirror_mode": {
    "name": "ipython",
    "version": 2
   },
   "file_extension": ".py",
   "mimetype": "text/x-python",
   "name": "python",
   "nbconvert_exporter": "python",
   "pygments_lexer": "ipython2",
   "version": "2.7.13"
  }
 },
 "nbformat": 4,
 "nbformat_minor": 2
}
